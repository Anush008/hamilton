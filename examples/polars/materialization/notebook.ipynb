{
 "cells": [
  {
   "cell_type": "code",
   "execution_count": 3,
   "metadata": {
    "ExecuteTime": {
     "end_time": "2023-10-05T16:36:33.343763Z",
     "start_time": "2023-10-05T16:36:33.337662Z"
    }
   },
   "outputs": [],
   "source": [
    "# update the polars package - optional\n",
    "# !pip install --upgrade polars"
   ]
  },
  {
   "cell_type": "code",
   "execution_count": 4,
   "metadata": {
    "ExecuteTime": {
     "end_time": "2023-10-05T16:36:35.401649Z",
     "start_time": "2023-10-05T16:36:33.838727Z"
    }
   },
   "outputs": [
    {
     "name": "stderr",
     "output_type": "stream",
     "text": [
      "d:\\Turing\\codes\\hamilton\\venv\\lib\\site-packages\\pyspark\\pandas\\__init__.py:50: UserWarning: 'PYARROW_IGNORE_TIMEZONE' environment variable was not set. It is required to set this environment variable to '1' in both driver and executor sides if you use pyarrow>=2.0.0. pandas-on-Spark will set it for you but it does not work if there is a Spark context already launched.\n",
      "  warnings.warn(\n"
     ]
    }
   ],
   "source": [
    "import polars as pl\n",
    "import sys\n",
    "# Add the hamilton module to your path - optinal\n",
    "project_dir = \"D:\\Turing\\codes\\hamilton\"\n",
    "sys.path.append(project_dir)\n",
    "\n",
    "from hamilton import driver\n",
    "from hamilton.io.materialization import to\n",
    "from hamilton.plugins import h_polars"
   ]
  },
  {
   "cell_type": "code",
   "execution_count": 5,
   "metadata": {
    "ExecuteTime": {
     "end_time": "2023-10-05T16:36:35.465307Z",
     "start_time": "2023-10-05T16:36:35.406399Z"
    },
    "pycharm": {
     "name": "#%%\n"
    }
   },
   "outputs": [],
   "source": [
    "# We use the autoreload extension that comes with ipython to automatically reload modules when\n",
    "# the code in them changes.\n",
    "\n",
    "# import the jupyter extension\n",
    "%load_ext autoreload\n",
    "# set it to only reload the modules imported\n",
    "%autoreload 1"
   ]
  },
  {
   "cell_type": "code",
   "execution_count": 6,
   "metadata": {
    "ExecuteTime": {
     "end_time": "2023-10-05T16:36:36.389233Z",
     "start_time": "2023-10-05T16:36:36.380788Z"
    },
    "pycharm": {
     "name": "#%%\n"
    }
   },
   "outputs": [
    {
     "name": "stdout",
     "output_type": "stream",
     "text": [
      "Overwriting spend_calculations.py\n"
     ]
    }
   ],
   "source": [
    "%%writefile spend_calculations.py\n",
    "# Define your new Hamilton functions.\n",
    "# The %%writefile magic command creates a new Python module with the functions below.\n",
    "# We will import this later and pass it into our Driver.\n",
    "\n",
    "import polars as pl\n",
    "\n",
    "# Look at `my_functions` to see how these functions connect.\n",
    "def avg_3wk_spend(spend: pl.Series) -> pl.Series:\n",
    "    \"\"\"Rolling 3 week average spend.\"\"\"\n",
    "    return spend.rolling_mean(3)\n",
    "\n",
    "\n",
    "def spend_per_signup(spend: pl.Series, signups: pl.Series) -> pl.Series:\n",
    "    \"\"\"The cost per signup in relation to spend.\"\"\"\n",
    "    return spend / signups\n",
    "\n",
    "\n",
    "def spend_mean(spend: pl.Series) -> float:\n",
    "    \"\"\"Shows function creating a scalar. In this case it computes the mean of the entire column.\"\"\"\n",
    "    return spend.mean()\n",
    "\n",
    "\n",
    "def spend_zero_mean(spend: pl.Series, spend_mean: float) -> pl.Series:\n",
    "    \"\"\"Shows function that takes a scalar. In this case to zero mean spend.\"\"\"\n",
    "    return spend - spend_mean\n",
    "\n",
    "\n",
    "def spend_std_dev(spend: pl.Series) -> float:\n",
    "    \"\"\"Function that computes the standard deviation of the spend column.\"\"\"\n",
    "    return spend.std()\n",
    "\n",
    "\n",
    "def spend_zero_mean_unit_variance(spend_zero_mean: pl.Series, spend_std_dev: float) -> pl.Series:\n",
    "    \"\"\"Function showing one way to make spend have zero mean and unit variance.\"\"\"\n",
    "    return spend_zero_mean / spend_std_dev"
   ]
  },
  {
   "cell_type": "code",
   "execution_count": 7,
   "metadata": {
    "ExecuteTime": {
     "end_time": "2023-10-05T16:36:36.947063Z",
     "start_time": "2023-10-05T16:36:36.938015Z"
    },
    "pycharm": {
     "name": "#%%\n"
    }
   },
   "outputs": [],
   "source": [
    "initial_columns = {  # load from actuals or wherever -- this is our initial data we use as input.\n",
    "    # Note: these values don't have to be all series, they could be a scalar.\n",
    "    \"signups\": pl.Series([1, 10, 50, 100, 200, 400]),\n",
    "    \"spend\": pl.Series([10, 10, 20, 40, 40, 50]),\n",
    "}"
   ]
  },
  {
   "cell_type": "code",
   "execution_count": 8,
   "metadata": {
    "ExecuteTime": {
     "end_time": "2023-10-05T16:36:37.496013Z",
     "start_time": "2023-10-05T16:36:37.447521Z"
    },
    "pycharm": {
     "name": "#%%\n"
    }
   },
   "outputs": [],
   "source": [
    "%aimport spend_calculations\n",
    "\n",
    "df_builder = h_polars.PolarsDataFrameResult()\n",
    "dr = driver.Driver({}, spend_calculations)  # can pass in multiple modules"
   ]
  },
  {
   "cell_type": "code",
   "execution_count": 9,
   "metadata": {
    "ExecuteTime": {
     "end_time": "2023-10-05T16:36:38.178430Z",
     "start_time": "2023-10-05T16:36:38.162359Z"
    }
   },
   "outputs": [],
   "source": [
    "# we need to specify what we want in the final dataframe. These can be string names, or function references.\n",
    "output_columns = [\n",
    "    \"spend\",\n",
    "    \"signups\",\n",
    "    \"avg_3wk_spend\",\n",
    "    \"spend_per_signup\",\n",
    "    \"spend_zero_mean_unit_variance\",\n",
    "]"
   ]
  },
  {
   "cell_type": "code",
   "execution_count": 10,
   "metadata": {
    "ExecuteTime": {
     "end_time": "2023-10-05T16:36:39.212897Z",
     "start_time": "2023-10-05T16:36:39.202499Z"
    },
    "collapsed": false
   },
   "outputs": [],
   "source": [
    "# pass"
   ]
  },
  {
   "cell_type": "code",
   "execution_count": 18,
   "metadata": {
    "ExecuteTime": {
     "end_time": "2023-10-05T16:36:39.908587Z",
     "start_time": "2023-10-05T16:36:39.637374Z"
    }
   },
   "outputs": [
    {
     "data": {
      "image/svg+xml": [
       "<?xml version=\"1.0\" encoding=\"UTF-8\" standalone=\"no\"?>\n",
       "<!DOCTYPE svg PUBLIC \"-//W3C//DTD SVG 1.1//EN\"\n",
       " \"http://www.w3.org/Graphics/SVG/1.1/DTD/svg11.dtd\">\n",
       "<!-- Generated by graphviz version 10.0.1 (20240210.2158)\n",
       " -->\n",
       "<!-- Pages: 1 -->\n",
       "<svg width=\"1179pt\" height=\"666pt\"\n",
       " viewBox=\"0.00 0.00 1179.10 665.60\" xmlns=\"http://www.w3.org/2000/svg\" xmlns:xlink=\"http://www.w3.org/1999/xlink\">\n",
       "<g id=\"graph0\" class=\"graph\" transform=\"scale(1 1) rotate(0) translate(4 661.6)\">\n",
       "<polygon fill=\"white\" stroke=\"none\" points=\"-4,4 -4,-661.6 1175.1,-661.6 1175.1,4 -4,4\"/>\n",
       "<g id=\"clust1\" class=\"cluster\">\n",
       "<title>cluster__legend</title>\n",
       "<polygon fill=\"#ffffff\" stroke=\"black\" points=\"8,-217.8 8,-468.8 117.6,-468.8 117.6,-217.8 8,-217.8\"/>\n",
       "<text text-anchor=\"middle\" x=\"62.8\" y=\"-451.5\" font-family=\"Helvetica,sans-Serif\" font-size=\"14.00\">Legend</text>\n",
       "</g>\n",
       "<!-- spend_std_dev -->\n",
       "<g id=\"node1\" class=\"node\">\n",
       "<title>spend_std_dev</title>\n",
       "<path fill=\"#b4d8e4\" stroke=\"black\" d=\"M423.42,-362.6C423.42,-362.6 318.57,-362.6 318.57,-362.6 312.57,-362.6 306.57,-356.6 306.57,-350.6 306.57,-350.6 306.57,-311 306.57,-311 306.57,-305 312.57,-299 318.57,-299 318.57,-299 423.42,-299 423.42,-299 429.42,-299 435.42,-305 435.42,-311 435.42,-311 435.42,-350.6 435.42,-350.6 435.42,-356.6 429.42,-362.6 423.42,-362.6\"/>\n",
       "<text text-anchor=\"start\" x=\"317.37\" y=\"-339.5\" font-family=\"Helvetica,sans-Serif\" font-weight=\"bold\" font-size=\"14.00\">spend_std_dev</text>\n",
       "<text text-anchor=\"start\" x=\"357.12\" y=\"-311.5\" font-family=\"Helvetica,sans-Serif\" font-style=\"italic\" font-size=\"14.00\">float</text>\n",
       "</g>\n",
       "<!-- spend_zero_mean_unit_variance -->\n",
       "<g id=\"node14\" class=\"node\">\n",
       "<title>spend_zero_mean_unit_variance</title>\n",
       "<path fill=\"#ffc857\" stroke=\"black\" d=\"M716.65,-317.6C716.65,-317.6 487.3,-317.6 487.3,-317.6 481.3,-317.6 475.3,-311.6 475.3,-305.6 475.3,-305.6 475.3,-266 475.3,-266 475.3,-260 481.3,-254 487.3,-254 487.3,-254 716.65,-254 716.65,-254 722.65,-254 728.65,-260 728.65,-266 728.65,-266 728.65,-305.6 728.65,-305.6 728.65,-311.6 722.65,-317.6 716.65,-317.6\"/>\n",
       "<text text-anchor=\"start\" x=\"486.1\" y=\"-294.5\" font-family=\"Helvetica,sans-Serif\" font-weight=\"bold\" font-size=\"14.00\">spend_zero_mean_unit_variance</text>\n",
       "<text text-anchor=\"start\" x=\"580.97\" y=\"-266.5\" font-family=\"Helvetica,sans-Serif\" font-style=\"italic\" font-size=\"14.00\">Series</text>\n",
       "</g>\n",
       "<!-- spend_std_dev&#45;&gt;spend_zero_mean_unit_variance -->\n",
       "<g id=\"edge28\" class=\"edge\">\n",
       "<title>spend_std_dev&#45;&gt;spend_zero_mean_unit_variance</title>\n",
       "<path fill=\"none\" stroke=\"black\" d=\"M435.78,-318.26C444.72,-316.51 454.18,-314.65 463.87,-312.75\"/>\n",
       "<polygon fill=\"black\" stroke=\"black\" points=\"464.26,-316.24 473.39,-310.87 462.91,-309.37 464.26,-316.24\"/>\n",
       "</g>\n",
       "<!-- df_to_avro_build_result -->\n",
       "<g id=\"node2\" class=\"node\">\n",
       "<title>df_to_avro_build_result</title>\n",
       "<path fill=\"#b4d8e4\" stroke=\"black\" d=\"M949.12,-481.6C949.12,-481.6 785.77,-481.6 785.77,-481.6 779.77,-481.6 773.77,-475.6 773.77,-469.6 773.77,-469.6 773.77,-430 773.77,-430 773.77,-424 779.77,-418 785.77,-418 785.77,-418 949.12,-418 949.12,-418 955.12,-418 961.12,-424 961.12,-430 961.12,-430 961.12,-469.6 961.12,-469.6 961.12,-475.6 955.12,-481.6 949.12,-481.6\"/>\n",
       "<text text-anchor=\"start\" x=\"784.57\" y=\"-458.5\" font-family=\"Helvetica,sans-Serif\" font-weight=\"bold\" font-size=\"14.00\">df_to_avro_build_result</text>\n",
       "<text text-anchor=\"start\" x=\"830.7\" y=\"-430.5\" font-family=\"Helvetica,sans-Serif\" font-style=\"italic\" font-size=\"14.00\">DataFrame</text>\n",
       "</g>\n",
       "<!-- df_to_avro -->\n",
       "<g id=\"node9\" class=\"node\">\n",
       "<title>df_to_avro</title>\n",
       "<path fill=\"#ffc857\" stroke=\"black\" d=\"M1154.6,-531.58C1154.6,-535.96 1125.05,-539.52 1088.67,-539.52 1052.3,-539.52 1022.75,-535.96 1022.75,-531.58 1022.75,-531.58 1022.75,-460.03 1022.75,-460.03 1022.75,-455.64 1052.3,-452.08 1088.67,-452.08 1125.05,-452.08 1154.6,-455.64 1154.6,-460.03 1154.6,-460.03 1154.6,-531.58 1154.6,-531.58\"/>\n",
       "<path fill=\"none\" stroke=\"black\" d=\"M1154.6,-531.58C1154.6,-527.19 1125.05,-523.63 1088.67,-523.63 1052.3,-523.63 1022.75,-527.19 1022.75,-531.58\"/>\n",
       "<text text-anchor=\"start\" x=\"1051.17\" y=\"-504.5\" font-family=\"Helvetica,sans-Serif\" font-weight=\"bold\" font-size=\"14.00\">df_to_avro</text>\n",
       "<text text-anchor=\"start\" x=\"1033.55\" y=\"-476.5\" font-family=\"Helvetica,sans-Serif\" font-style=\"italic\" font-size=\"14.00\">PolarsAvroWriter</text>\n",
       "</g>\n",
       "<!-- df_to_avro_build_result&#45;&gt;df_to_avro -->\n",
       "<g id=\"edge18\" class=\"edge\">\n",
       "<title>df_to_avro_build_result&#45;&gt;df_to_avro</title>\n",
       "<path fill=\"none\" stroke=\"black\" d=\"M961.42,-469.31C978.11,-472.81 995.32,-476.42 1011.47,-479.81\"/>\n",
       "<polygon fill=\"black\" stroke=\"black\" points=\"1010.47,-483.18 1020.98,-481.8 1011.91,-476.33 1010.47,-483.18\"/>\n",
       "</g>\n",
       "<!-- df_to_database_build_result -->\n",
       "<g id=\"node3\" class=\"node\">\n",
       "<title>df_to_database_build_result</title>\n",
       "<path fill=\"#b4d8e4\" stroke=\"black\" d=\"M965.25,-399.6C965.25,-399.6 769.65,-399.6 769.65,-399.6 763.65,-399.6 757.65,-393.6 757.65,-387.6 757.65,-387.6 757.65,-348 757.65,-348 757.65,-342 763.65,-336 769.65,-336 769.65,-336 965.25,-336 965.25,-336 971.25,-336 977.25,-342 977.25,-348 977.25,-348 977.25,-387.6 977.25,-387.6 977.25,-393.6 971.25,-399.6 965.25,-399.6\"/>\n",
       "<text text-anchor=\"start\" x=\"768.45\" y=\"-376.5\" font-family=\"Helvetica,sans-Serif\" font-weight=\"bold\" font-size=\"14.00\">df_to_database_build_result</text>\n",
       "<text text-anchor=\"start\" x=\"830.7\" y=\"-348.5\" font-family=\"Helvetica,sans-Serif\" font-style=\"italic\" font-size=\"14.00\">DataFrame</text>\n",
       "</g>\n",
       "<!-- df_to_database -->\n",
       "<g id=\"node7\" class=\"node\">\n",
       "<title>df_to_database</title>\n",
       "<path fill=\"#ffc857\" stroke=\"black\" d=\"M1171.1,-426.57C1171.1,-430.96 1134.16,-434.52 1088.67,-434.52 1043.19,-434.52 1006.25,-430.96 1006.25,-426.57 1006.25,-426.57 1006.25,-355.03 1006.25,-355.03 1006.25,-350.64 1043.19,-347.08 1088.67,-347.08 1134.16,-347.08 1171.1,-350.64 1171.1,-355.03 1171.1,-355.03 1171.1,-426.57 1171.1,-426.57\"/>\n",
       "<path fill=\"none\" stroke=\"black\" d=\"M1171.1,-426.57C1171.1,-422.19 1134.16,-418.62 1088.67,-418.62 1043.19,-418.62 1006.25,-422.19 1006.25,-426.57\"/>\n",
       "<text text-anchor=\"start\" x=\"1035.05\" y=\"-399.5\" font-family=\"Helvetica,sans-Serif\" font-weight=\"bold\" font-size=\"14.00\">df_to_database</text>\n",
       "<text text-anchor=\"start\" x=\"1017.05\" y=\"-371.5\" font-family=\"Helvetica,sans-Serif\" font-style=\"italic\" font-size=\"14.00\">PolarsDatabaseWriter</text>\n",
       "</g>\n",
       "<!-- df_to_database_build_result&#45;&gt;df_to_database -->\n",
       "<g id=\"edge13\" class=\"edge\">\n",
       "<title>df_to_database_build_result&#45;&gt;df_to_database</title>\n",
       "<path fill=\"none\" stroke=\"black\" d=\"M977.74,-379.27C983.35,-379.85 988.95,-380.44 994.5,-381.02\"/>\n",
       "<polygon fill=\"black\" stroke=\"black\" points=\"993.97,-384.49 1004.28,-382.05 994.7,-377.53 993.97,-384.49\"/>\n",
       "</g>\n",
       "<!-- df_to_parquet -->\n",
       "<g id=\"node4\" class=\"node\">\n",
       "<title>df_to_parquet</title>\n",
       "<path fill=\"#ffc857\" stroke=\"black\" d=\"M1165.1,-321.57C1165.1,-325.96 1130.85,-329.52 1088.67,-329.52 1046.5,-329.52 1012.25,-325.96 1012.25,-321.57 1012.25,-321.57 1012.25,-250.03 1012.25,-250.03 1012.25,-245.64 1046.5,-242.08 1088.67,-242.08 1130.85,-242.08 1165.1,-245.64 1165.1,-250.03 1165.1,-250.03 1165.1,-321.57 1165.1,-321.57\"/>\n",
       "<path fill=\"none\" stroke=\"black\" d=\"M1165.1,-321.57C1165.1,-317.19 1130.85,-313.62 1088.67,-313.62 1046.5,-313.62 1012.25,-317.19 1012.25,-321.57\"/>\n",
       "<text text-anchor=\"start\" x=\"1039.92\" y=\"-294.5\" font-family=\"Helvetica,sans-Serif\" font-weight=\"bold\" font-size=\"14.00\">df_to_parquet</text>\n",
       "<text text-anchor=\"start\" x=\"1023.05\" y=\"-266.5\" font-family=\"Helvetica,sans-Serif\" font-style=\"italic\" font-size=\"14.00\">PolarsParquetWriter</text>\n",
       "</g>\n",
       "<!-- df_to_feather -->\n",
       "<g id=\"node5\" class=\"node\">\n",
       "<title>df_to_feather</title>\n",
       "<path fill=\"#ffc857\" stroke=\"black\" d=\"M1164.72,-216.57C1164.72,-220.96 1130.64,-224.53 1088.67,-224.53 1046.71,-224.53 1012.62,-220.96 1012.62,-216.57 1012.62,-216.57 1012.62,-145.03 1012.62,-145.03 1012.62,-140.64 1046.71,-137.08 1088.67,-137.08 1130.64,-137.08 1164.72,-140.64 1164.72,-145.03 1164.72,-145.03 1164.72,-216.57 1164.72,-216.57\"/>\n",
       "<path fill=\"none\" stroke=\"black\" d=\"M1164.72,-216.57C1164.72,-212.19 1130.64,-208.62 1088.67,-208.62 1046.71,-208.62 1012.62,-212.19 1012.62,-216.57\"/>\n",
       "<text text-anchor=\"start\" x=\"1042.55\" y=\"-189.5\" font-family=\"Helvetica,sans-Serif\" font-weight=\"bold\" font-size=\"14.00\">df_to_feather</text>\n",
       "<text text-anchor=\"start\" x=\"1023.42\" y=\"-161.5\" font-family=\"Helvetica,sans-Serif\" font-style=\"italic\" font-size=\"14.00\">PolarsFeatherWriter</text>\n",
       "</g>\n",
       "<!-- avg_3wk_spend -->\n",
       "<g id=\"node6\" class=\"node\">\n",
       "<title>avg_3wk_spend</title>\n",
       "<path fill=\"#ffc857\" stroke=\"black\" d=\"M657.4,-399.6C657.4,-399.6 546.55,-399.6 546.55,-399.6 540.55,-399.6 534.55,-393.6 534.55,-387.6 534.55,-387.6 534.55,-348 534.55,-348 534.55,-342 540.55,-336 546.55,-336 546.55,-336 657.4,-336 657.4,-336 663.4,-336 669.4,-342 669.4,-348 669.4,-348 669.4,-387.6 669.4,-387.6 669.4,-393.6 663.4,-399.6 657.4,-399.6\"/>\n",
       "<text text-anchor=\"start\" x=\"545.35\" y=\"-376.5\" font-family=\"Helvetica,sans-Serif\" font-weight=\"bold\" font-size=\"14.00\">avg_3wk_spend</text>\n",
       "<text text-anchor=\"start\" x=\"580.97\" y=\"-348.5\" font-family=\"Helvetica,sans-Serif\" font-style=\"italic\" font-size=\"14.00\">Series</text>\n",
       "</g>\n",
       "<!-- avg_3wk_spend&#45;&gt;df_to_avro_build_result -->\n",
       "<g id=\"edge2\" class=\"edge\">\n",
       "<title>avg_3wk_spend&#45;&gt;df_to_avro_build_result</title>\n",
       "<path fill=\"none\" stroke=\"black\" d=\"M669.8,-388.6C697.89,-397.34 731.24,-407.72 762.42,-417.42\"/>\n",
       "<polygon fill=\"black\" stroke=\"black\" points=\"761.31,-420.74 771.89,-420.37 763.39,-414.06 761.31,-420.74\"/>\n",
       "</g>\n",
       "<!-- avg_3wk_spend&#45;&gt;df_to_database_build_result -->\n",
       "<g id=\"edge6\" class=\"edge\">\n",
       "<title>avg_3wk_spend&#45;&gt;df_to_database_build_result</title>\n",
       "<path fill=\"none\" stroke=\"black\" d=\"M669.8,-367.8C693.01,-367.8 719.81,-367.8 746,-367.8\"/>\n",
       "<polygon fill=\"black\" stroke=\"black\" points=\"745.67,-371.3 755.67,-367.8 745.67,-364.3 745.67,-371.3\"/>\n",
       "</g>\n",
       "<!-- df_to_parquet_build_result -->\n",
       "<g id=\"node8\" class=\"node\">\n",
       "<title>df_to_parquet_build_result</title>\n",
       "<path fill=\"#b4d8e4\" stroke=\"black\" d=\"M960.37,-317.6C960.37,-317.6 774.52,-317.6 774.52,-317.6 768.52,-317.6 762.52,-311.6 762.52,-305.6 762.52,-305.6 762.52,-266 762.52,-266 762.52,-260 768.52,-254 774.52,-254 774.52,-254 960.37,-254 960.37,-254 966.37,-254 972.37,-260 972.37,-266 972.37,-266 972.37,-305.6 972.37,-305.6 972.37,-311.6 966.37,-317.6 960.37,-317.6\"/>\n",
       "<text text-anchor=\"start\" x=\"773.32\" y=\"-294.5\" font-family=\"Helvetica,sans-Serif\" font-weight=\"bold\" font-size=\"14.00\">df_to_parquet_build_result</text>\n",
       "<text text-anchor=\"start\" x=\"830.7\" y=\"-266.5\" font-family=\"Helvetica,sans-Serif\" font-style=\"italic\" font-size=\"14.00\">DataFrame</text>\n",
       "</g>\n",
       "<!-- avg_3wk_spend&#45;&gt;df_to_parquet_build_result -->\n",
       "<g id=\"edge14\" class=\"edge\">\n",
       "<title>avg_3wk_spend&#45;&gt;df_to_parquet_build_result</title>\n",
       "<path fill=\"none\" stroke=\"black\" d=\"M669.8,-347C694.81,-339.22 723.98,-330.14 752.08,-321.4\"/>\n",
       "<polygon fill=\"black\" stroke=\"black\" points=\"752.83,-324.83 761.34,-318.51 750.75,-318.14 752.83,-324.83\"/>\n",
       "</g>\n",
       "<!-- df_to_json_build_result -->\n",
       "<g id=\"node12\" class=\"node\">\n",
       "<title>df_to_json_build_result</title>\n",
       "<path fill=\"#b4d8e4\" stroke=\"black\" d=\"M948.37,-153.6C948.37,-153.6 786.52,-153.6 786.52,-153.6 780.52,-153.6 774.52,-147.6 774.52,-141.6 774.52,-141.6 774.52,-102 774.52,-102 774.52,-96 780.52,-90 786.52,-90 786.52,-90 948.37,-90 948.37,-90 954.37,-90 960.37,-96 960.37,-102 960.37,-102 960.37,-141.6 960.37,-141.6 960.37,-147.6 954.37,-153.6 948.37,-153.6\"/>\n",
       "<text text-anchor=\"start\" x=\"785.32\" y=\"-130.5\" font-family=\"Helvetica,sans-Serif\" font-weight=\"bold\" font-size=\"14.00\">df_to_json_build_result</text>\n",
       "<text text-anchor=\"start\" x=\"830.7\" y=\"-102.5\" font-family=\"Helvetica,sans-Serif\" font-style=\"italic\" font-size=\"14.00\">DataFrame</text>\n",
       "</g>\n",
       "<!-- avg_3wk_spend&#45;&gt;df_to_json_build_result -->\n",
       "<g id=\"edge22\" class=\"edge\">\n",
       "<title>avg_3wk_spend&#45;&gt;df_to_json_build_result</title>\n",
       "<path fill=\"none\" stroke=\"black\" d=\"M669.66,-359.89C691.36,-354.07 713.67,-344.04 728.65,-326.8 777.19,-270.92 710.38,-219.76 757.65,-162.8 759.93,-160.05 762.41,-157.49 765.06,-155.1\"/>\n",
       "<polygon fill=\"black\" stroke=\"black\" points=\"767.15,-157.91 772.84,-148.97 762.82,-152.41 767.15,-157.91\"/>\n",
       "</g>\n",
       "<!-- df_to_feather_build_result -->\n",
       "<g id=\"node15\" class=\"node\">\n",
       "<title>df_to_feather_build_result</title>\n",
       "<path fill=\"#b4d8e4\" stroke=\"black\" d=\"M957.75,-235.6C957.75,-235.6 777.15,-235.6 777.15,-235.6 771.15,-235.6 765.15,-229.6 765.15,-223.6 765.15,-223.6 765.15,-184 765.15,-184 765.15,-178 771.15,-172 777.15,-172 777.15,-172 957.75,-172 957.75,-172 963.75,-172 969.75,-178 969.75,-184 969.75,-184 969.75,-223.6 969.75,-223.6 969.75,-229.6 963.75,-235.6 957.75,-235.6\"/>\n",
       "<text text-anchor=\"start\" x=\"775.95\" y=\"-212.5\" font-family=\"Helvetica,sans-Serif\" font-weight=\"bold\" font-size=\"14.00\">df_to_feather_build_result</text>\n",
       "<text text-anchor=\"start\" x=\"830.7\" y=\"-184.5\" font-family=\"Helvetica,sans-Serif\" font-style=\"italic\" font-size=\"14.00\">DataFrame</text>\n",
       "</g>\n",
       "<!-- avg_3wk_spend&#45;&gt;df_to_feather_build_result -->\n",
       "<g id=\"edge29\" class=\"edge\">\n",
       "<title>avg_3wk_spend&#45;&gt;df_to_feather_build_result</title>\n",
       "<path fill=\"none\" stroke=\"black\" d=\"M669.75,-357.99C690.81,-352 712.72,-342.35 728.65,-326.8 756.32,-299.8 730.6,-272.41 757.65,-244.8 758.14,-244.3 758.63,-243.81 759.13,-243.33\"/>\n",
       "<polygon fill=\"black\" stroke=\"black\" points=\"761.23,-246.13 766.56,-236.98 756.69,-240.81 761.23,-246.13\"/>\n",
       "</g>\n",
       "<!-- df_to_parquet_build_result&#45;&gt;df_to_parquet -->\n",
       "<g id=\"edge10\" class=\"edge\">\n",
       "<title>df_to_parquet_build_result&#45;&gt;df_to_parquet</title>\n",
       "<path fill=\"none\" stroke=\"black\" d=\"M972.61,-285.8C981.93,-285.8 991.3,-285.8 1000.46,-285.8\"/>\n",
       "<polygon fill=\"black\" stroke=\"black\" points=\"1000.4,-289.3 1010.4,-285.8 1000.4,-282.3 1000.4,-289.3\"/>\n",
       "</g>\n",
       "<!-- df_to_json -->\n",
       "<g id=\"node10\" class=\"node\">\n",
       "<title>df_to_json</title>\n",
       "<path fill=\"#ffc857\" stroke=\"black\" d=\"M1159.1,-111.58C1159.1,-115.96 1127.53,-119.53 1088.67,-119.53 1049.82,-119.53 1018.25,-115.96 1018.25,-111.58 1018.25,-111.58 1018.25,-40.03 1018.25,-40.03 1018.25,-35.64 1049.82,-32.08 1088.67,-32.08 1127.53,-32.08 1159.1,-35.64 1159.1,-40.03 1159.1,-40.03 1159.1,-111.58 1159.1,-111.58\"/>\n",
       "<path fill=\"none\" stroke=\"black\" d=\"M1159.1,-111.58C1159.1,-107.19 1127.53,-103.62 1088.67,-103.62 1049.82,-103.62 1018.25,-107.19 1018.25,-111.58\"/>\n",
       "<text text-anchor=\"start\" x=\"1051.92\" y=\"-84.5\" font-family=\"Helvetica,sans-Serif\" font-weight=\"bold\" font-size=\"14.00\">df_to_json</text>\n",
       "<text text-anchor=\"start\" x=\"1029.05\" y=\"-56.5\" font-family=\"Helvetica,sans-Serif\" font-style=\"italic\" font-size=\"14.00\">PolarsJSONWriter</text>\n",
       "</g>\n",
       "<!-- spend_zero_mean -->\n",
       "<g id=\"node11\" class=\"node\">\n",
       "<title>spend_zero_mean</title>\n",
       "<path fill=\"#b4d8e4\" stroke=\"black\" d=\"M434.3,-280.6C434.3,-280.6 307.7,-280.6 307.7,-280.6 301.7,-280.6 295.7,-274.6 295.7,-268.6 295.7,-268.6 295.7,-229 295.7,-229 295.7,-223 301.7,-217 307.7,-217 307.7,-217 434.3,-217 434.3,-217 440.3,-217 446.3,-223 446.3,-229 446.3,-229 446.3,-268.6 446.3,-268.6 446.3,-274.6 440.3,-280.6 434.3,-280.6\"/>\n",
       "<text text-anchor=\"start\" x=\"306.5\" y=\"-257.5\" font-family=\"Helvetica,sans-Serif\" font-weight=\"bold\" font-size=\"14.00\">spend_zero_mean</text>\n",
       "<text text-anchor=\"start\" x=\"350\" y=\"-229.5\" font-family=\"Helvetica,sans-Serif\" font-style=\"italic\" font-size=\"14.00\">Series</text>\n",
       "</g>\n",
       "<!-- spend_zero_mean&#45;&gt;spend_zero_mean_unit_variance -->\n",
       "<g id=\"edge27\" class=\"edge\">\n",
       "<title>spend_zero_mean&#45;&gt;spend_zero_mean_unit_variance</title>\n",
       "<path fill=\"none\" stroke=\"black\" d=\"M446.66,-260.86C452.23,-261.76 457.94,-262.69 463.73,-263.62\"/>\n",
       "<polygon fill=\"black\" stroke=\"black\" points=\"463.02,-267.05 473.45,-265.19 464.14,-260.14 463.02,-267.05\"/>\n",
       "</g>\n",
       "<!-- df_to_json_build_result&#45;&gt;df_to_json -->\n",
       "<g id=\"edge19\" class=\"edge\">\n",
       "<title>df_to_json_build_result&#45;&gt;df_to_json</title>\n",
       "<path fill=\"none\" stroke=\"black\" d=\"M960.79,-102.43C975.99,-99.24 991.64,-95.95 1006.54,-92.82\"/>\n",
       "<polygon fill=\"black\" stroke=\"black\" points=\"1007.22,-96.26 1016.28,-90.78 1005.78,-89.41 1007.22,-96.26\"/>\n",
       "</g>\n",
       "<!-- spend_mean -->\n",
       "<g id=\"node13\" class=\"node\">\n",
       "<title>spend_mean</title>\n",
       "<path fill=\"#b4d8e4\" stroke=\"black\" d=\"M252.2,-216.6C252.2,-216.6 164.6,-216.6 164.6,-216.6 158.6,-216.6 152.6,-210.6 152.6,-204.6 152.6,-204.6 152.6,-165 152.6,-165 152.6,-159 158.6,-153 164.6,-153 164.6,-153 252.2,-153 252.2,-153 258.2,-153 264.2,-159 264.2,-165 264.2,-165 264.2,-204.6 264.2,-204.6 264.2,-210.6 258.2,-216.6 252.2,-216.6\"/>\n",
       "<text text-anchor=\"start\" x=\"163.4\" y=\"-193.5\" font-family=\"Helvetica,sans-Serif\" font-weight=\"bold\" font-size=\"14.00\">spend_mean</text>\n",
       "<text text-anchor=\"start\" x=\"194.52\" y=\"-165.5\" font-family=\"Helvetica,sans-Serif\" font-style=\"italic\" font-size=\"14.00\">float</text>\n",
       "</g>\n",
       "<!-- spend_mean&#45;&gt;spend_zero_mean -->\n",
       "<g id=\"edge20\" class=\"edge\">\n",
       "<title>spend_mean&#45;&gt;spend_zero_mean</title>\n",
       "<path fill=\"none\" stroke=\"black\" d=\"M264.67,-206.83C271.16,-209.41 277.89,-212.09 284.67,-214.8\"/>\n",
       "<polygon fill=\"black\" stroke=\"black\" points=\"283.35,-218.04 293.93,-218.49 285.94,-211.53 283.35,-218.04\"/>\n",
       "</g>\n",
       "<!-- spend_zero_mean_unit_variance&#45;&gt;df_to_avro_build_result -->\n",
       "<g id=\"edge4\" class=\"edge\">\n",
       "<title>spend_zero_mean_unit_variance&#45;&gt;df_to_avro_build_result</title>\n",
       "<path fill=\"none\" stroke=\"black\" d=\"M718.09,-317.92C721.83,-320.64 725.36,-323.59 728.65,-326.8 756.32,-353.8 730.6,-381.19 757.65,-408.8 759.87,-411.06 762.22,-413.2 764.69,-415.23\"/>\n",
       "<polygon fill=\"black\" stroke=\"black\" points=\"762.12,-417.68 772.26,-420.77 766.26,-412.04 762.12,-417.68\"/>\n",
       "</g>\n",
       "<!-- spend_zero_mean_unit_variance&#45;&gt;df_to_database_build_result -->\n",
       "<g id=\"edge8\" class=\"edge\">\n",
       "<title>spend_zero_mean_unit_variance&#45;&gt;df_to_database_build_result</title>\n",
       "<path fill=\"none\" stroke=\"black\" d=\"M706.73,-318.09C721.56,-322.71 736.89,-327.48 751.92,-332.15\"/>\n",
       "<polygon fill=\"black\" stroke=\"black\" points=\"750.76,-335.46 761.35,-335.09 752.84,-328.78 750.76,-335.46\"/>\n",
       "</g>\n",
       "<!-- spend_zero_mean_unit_variance&#45;&gt;df_to_parquet_build_result -->\n",
       "<g id=\"edge16\" class=\"edge\">\n",
       "<title>spend_zero_mean_unit_variance&#45;&gt;df_to_parquet_build_result</title>\n",
       "<path fill=\"none\" stroke=\"black\" d=\"M728.92,-285.8C736.22,-285.8 743.54,-285.8 750.79,-285.8\"/>\n",
       "<polygon fill=\"black\" stroke=\"black\" points=\"750.6,-289.3 760.6,-285.8 750.6,-282.3 750.6,-289.3\"/>\n",
       "</g>\n",
       "<!-- spend_zero_mean_unit_variance&#45;&gt;df_to_json_build_result -->\n",
       "<g id=\"edge24\" class=\"edge\">\n",
       "<title>spend_zero_mean_unit_variance&#45;&gt;df_to_json_build_result</title>\n",
       "<path fill=\"none\" stroke=\"black\" d=\"M718.09,-253.68C721.83,-250.96 725.36,-248.01 728.65,-244.8 756.32,-217.8 730.6,-190.41 757.65,-162.8 759.97,-160.43 762.44,-158.2 765.02,-156.1\"/>\n",
       "<polygon fill=\"black\" stroke=\"black\" points=\"766.97,-159.01 773.02,-150.31 762.87,-153.34 766.97,-159.01\"/>\n",
       "</g>\n",
       "<!-- spend_zero_mean_unit_variance&#45;&gt;df_to_feather_build_result -->\n",
       "<g id=\"edge31\" class=\"edge\">\n",
       "<title>spend_zero_mean_unit_variance&#45;&gt;df_to_feather_build_result</title>\n",
       "<path fill=\"none\" stroke=\"black\" d=\"M706.73,-253.51C722.29,-248.67 738.4,-243.65 754.13,-238.76\"/>\n",
       "<polygon fill=\"black\" stroke=\"black\" points=\"754.99,-242.15 763.5,-235.84 752.91,-235.47 754.99,-242.15\"/>\n",
       "</g>\n",
       "<!-- df_to_feather_build_result&#45;&gt;df_to_feather -->\n",
       "<g id=\"edge11\" class=\"edge\">\n",
       "<title>df_to_feather_build_result&#45;&gt;df_to_feather</title>\n",
       "<path fill=\"none\" stroke=\"black\" d=\"M970.04,-193.14C980.38,-192.06 990.81,-190.96 1000.96,-189.9\"/>\n",
       "<polygon fill=\"black\" stroke=\"black\" points=\"1001.21,-193.39 1010.79,-188.87 1000.48,-186.43 1001.21,-193.39\"/>\n",
       "</g>\n",
       "<!-- spend_per_signup -->\n",
       "<g id=\"node16\" class=\"node\">\n",
       "<title>spend_per_signup</title>\n",
       "<path fill=\"#ffc857\" stroke=\"black\" d=\"M666.4,-235.6C666.4,-235.6 537.55,-235.6 537.55,-235.6 531.55,-235.6 525.55,-229.6 525.55,-223.6 525.55,-223.6 525.55,-184 525.55,-184 525.55,-178 531.55,-172 537.55,-172 537.55,-172 666.4,-172 666.4,-172 672.4,-172 678.4,-178 678.4,-184 678.4,-184 678.4,-223.6 678.4,-223.6 678.4,-229.6 672.4,-235.6 666.4,-235.6\"/>\n",
       "<text text-anchor=\"start\" x=\"536.35\" y=\"-212.5\" font-family=\"Helvetica,sans-Serif\" font-weight=\"bold\" font-size=\"14.00\">spend_per_signup</text>\n",
       "<text text-anchor=\"start\" x=\"580.97\" y=\"-184.5\" font-family=\"Helvetica,sans-Serif\" font-style=\"italic\" font-size=\"14.00\">Series</text>\n",
       "</g>\n",
       "<!-- spend_per_signup&#45;&gt;df_to_avro_build_result -->\n",
       "<g id=\"edge3\" class=\"edge\">\n",
       "<title>spend_per_signup&#45;&gt;df_to_avro_build_result</title>\n",
       "<path fill=\"none\" stroke=\"black\" d=\"M678.83,-214.42C697.49,-220.49 715.78,-229.99 728.65,-244.8 777.19,-300.68 710.38,-351.84 757.65,-408.8 759.76,-411.35 762.06,-413.74 764.49,-415.98\"/>\n",
       "<polygon fill=\"black\" stroke=\"black\" points=\"762.12,-418.56 772.1,-422.1 766.5,-413.1 762.12,-418.56\"/>\n",
       "</g>\n",
       "<!-- spend_per_signup&#45;&gt;df_to_database_build_result -->\n",
       "<g id=\"edge7\" class=\"edge\">\n",
       "<title>spend_per_signup&#45;&gt;df_to_database_build_result</title>\n",
       "<path fill=\"none\" stroke=\"black\" d=\"M678.58,-216.33C696.8,-222.4 714.93,-231.42 728.65,-244.8 756.32,-271.8 730.6,-299.19 757.65,-326.8 758.14,-327.3 758.63,-327.79 759.13,-328.27\"/>\n",
       "<polygon fill=\"black\" stroke=\"black\" points=\"756.69,-330.79 766.56,-334.62 761.23,-325.47 756.69,-330.79\"/>\n",
       "</g>\n",
       "<!-- spend_per_signup&#45;&gt;df_to_parquet_build_result -->\n",
       "<g id=\"edge15\" class=\"edge\">\n",
       "<title>spend_per_signup&#45;&gt;df_to_parquet_build_result</title>\n",
       "<path fill=\"none\" stroke=\"black\" d=\"M678.83,-227.41C701.61,-234.5 727.12,-242.44 751.82,-250.12\"/>\n",
       "<polygon fill=\"black\" stroke=\"black\" points=\"750.68,-253.44 761.27,-253.07 752.76,-246.75 750.68,-253.44\"/>\n",
       "</g>\n",
       "<!-- spend_per_signup&#45;&gt;df_to_json_build_result -->\n",
       "<g id=\"edge23\" class=\"edge\">\n",
       "<title>spend_per_signup&#45;&gt;df_to_json_build_result</title>\n",
       "<path fill=\"none\" stroke=\"black\" d=\"M678.83,-180.19C705.25,-171.97 735.35,-162.6 763.59,-153.81\"/>\n",
       "<polygon fill=\"black\" stroke=\"black\" points=\"764.36,-157.24 772.87,-150.92 762.28,-150.55 764.36,-157.24\"/>\n",
       "</g>\n",
       "<!-- spend_per_signup&#45;&gt;df_to_feather_build_result -->\n",
       "<g id=\"edge30\" class=\"edge\">\n",
       "<title>spend_per_signup&#45;&gt;df_to_feather_build_result</title>\n",
       "<path fill=\"none\" stroke=\"black\" d=\"M678.83,-203.8C702.03,-203.8 728.07,-203.8 753.2,-203.8\"/>\n",
       "<polygon fill=\"black\" stroke=\"black\" points=\"753.15,-207.3 763.15,-203.8 753.15,-200.3 753.15,-207.3\"/>\n",
       "</g>\n",
       "<!-- _spend_std_dev_inputs -->\n",
       "<g id=\"node17\" class=\"node\">\n",
       "<title>_spend_std_dev_inputs</title>\n",
       "<polygon fill=\"#ffffff\" stroke=\"black\" stroke-dasharray=\"5,2\" points=\"266.7,-353.85 150.1,-353.85 150.1,-307.75 266.7,-307.75 266.7,-353.85\"/>\n",
       "<text text-anchor=\"start\" x=\"164.9\" y=\"-325.75\" font-family=\"Helvetica,sans-Serif\" font-size=\"14.00\">spend</text>\n",
       "<text text-anchor=\"start\" x=\"210.65\" y=\"-325.75\" font-family=\"Helvetica,sans-Serif\" font-size=\"14.00\">Series</text>\n",
       "</g>\n",
       "<!-- _spend_std_dev_inputs&#45;&gt;spend_std_dev -->\n",
       "<g id=\"edge1\" class=\"edge\">\n",
       "<title>_spend_std_dev_inputs&#45;&gt;spend_std_dev</title>\n",
       "<path fill=\"none\" stroke=\"black\" d=\"M266.93,-330.8C276.01,-330.8 285.52,-330.8 294.94,-330.8\"/>\n",
       "<polygon fill=\"black\" stroke=\"black\" points=\"294.82,-334.3 304.82,-330.8 294.82,-327.3 294.82,-334.3\"/>\n",
       "</g>\n",
       "<!-- _df_to_avro_build_result_inputs -->\n",
       "<g id=\"node18\" class=\"node\">\n",
       "<title>_df_to_avro_build_result_inputs</title>\n",
       "<polygon fill=\"#ffffff\" stroke=\"black\" stroke-dasharray=\"5,2\" points=\"664.77,-657.6 539.17,-657.6 539.17,-590 664.77,-590 664.77,-657.6\"/>\n",
       "<text text-anchor=\"start\" x=\"553.72\" y=\"-629.5\" font-family=\"Helvetica,sans-Serif\" font-size=\"14.00\">signups</text>\n",
       "<text text-anchor=\"start\" x=\"608.85\" y=\"-629.5\" font-family=\"Helvetica,sans-Serif\" font-size=\"14.00\">Series</text>\n",
       "<text text-anchor=\"start\" x=\"558.6\" y=\"-607.5\" font-family=\"Helvetica,sans-Serif\" font-size=\"14.00\">spend</text>\n",
       "<text text-anchor=\"start\" x=\"608.85\" y=\"-607.5\" font-family=\"Helvetica,sans-Serif\" font-size=\"14.00\">Series</text>\n",
       "</g>\n",
       "<!-- _df_to_avro_build_result_inputs&#45;&gt;df_to_avro_build_result -->\n",
       "<g id=\"edge5\" class=\"edge\">\n",
       "<title>_df_to_avro_build_result_inputs&#45;&gt;df_to_avro_build_result</title>\n",
       "<path fill=\"none\" stroke=\"black\" d=\"M665.09,-608.37C686.14,-601.65 709.22,-592.57 728.65,-580.8 768.56,-556.61 806.41,-519.19 832.31,-490.52\"/>\n",
       "<polygon fill=\"black\" stroke=\"black\" points=\"834.92,-492.86 838.95,-483.06 829.69,-488.21 834.92,-492.86\"/>\n",
       "</g>\n",
       "<!-- _df_to_database_build_result_inputs -->\n",
       "<g id=\"node19\" class=\"node\">\n",
       "<title>_df_to_database_build_result_inputs</title>\n",
       "<polygon fill=\"#ffffff\" stroke=\"black\" stroke-dasharray=\"5,2\" points=\"664.77,-571.6 539.17,-571.6 539.17,-504 664.77,-504 664.77,-571.6\"/>\n",
       "<text text-anchor=\"start\" x=\"553.72\" y=\"-543.5\" font-family=\"Helvetica,sans-Serif\" font-size=\"14.00\">signups</text>\n",
       "<text text-anchor=\"start\" x=\"608.85\" y=\"-543.5\" font-family=\"Helvetica,sans-Serif\" font-size=\"14.00\">Series</text>\n",
       "<text text-anchor=\"start\" x=\"558.6\" y=\"-521.5\" font-family=\"Helvetica,sans-Serif\" font-size=\"14.00\">spend</text>\n",
       "<text text-anchor=\"start\" x=\"608.85\" y=\"-521.5\" font-family=\"Helvetica,sans-Serif\" font-size=\"14.00\">Series</text>\n",
       "</g>\n",
       "<!-- _df_to_database_build_result_inputs&#45;&gt;df_to_database_build_result -->\n",
       "<g id=\"edge9\" class=\"edge\">\n",
       "<title>_df_to_database_build_result_inputs&#45;&gt;df_to_database_build_result</title>\n",
       "<path fill=\"none\" stroke=\"black\" d=\"M665.06,-528.39C687.59,-522.18 711.65,-511.88 728.65,-494.8 757.11,-466.21 729.63,-437.82 757.65,-408.8 758.13,-408.3 758.62,-407.81 759.12,-407.32\"/>\n",
       "<polygon fill=\"black\" stroke=\"black\" points=\"761.24,-410.11 766.51,-400.93 756.66,-404.82 761.24,-410.11\"/>\n",
       "</g>\n",
       "<!-- _avg_3wk_spend_inputs -->\n",
       "<g id=\"node20\" class=\"node\">\n",
       "<title>_avg_3wk_spend_inputs</title>\n",
       "<polygon fill=\"#ffffff\" stroke=\"black\" stroke-dasharray=\"5,2\" points=\"429.3,-426.85 312.7,-426.85 312.7,-380.75 429.3,-380.75 429.3,-426.85\"/>\n",
       "<text text-anchor=\"start\" x=\"327.5\" y=\"-398.75\" font-family=\"Helvetica,sans-Serif\" font-size=\"14.00\">spend</text>\n",
       "<text text-anchor=\"start\" x=\"373.25\" y=\"-398.75\" font-family=\"Helvetica,sans-Serif\" font-size=\"14.00\">Series</text>\n",
       "</g>\n",
       "<!-- _avg_3wk_spend_inputs&#45;&gt;avg_3wk_spend -->\n",
       "<g id=\"edge12\" class=\"edge\">\n",
       "<title>_avg_3wk_spend_inputs&#45;&gt;avg_3wk_spend</title>\n",
       "<path fill=\"none\" stroke=\"black\" d=\"M429.78,-394.72C458.1,-390.26 492.61,-384.84 523.21,-380.03\"/>\n",
       "<polygon fill=\"black\" stroke=\"black\" points=\"523.45,-383.53 532.79,-378.52 522.37,-376.62 523.45,-383.53\"/>\n",
       "</g>\n",
       "<!-- _df_to_parquet_build_result_inputs -->\n",
       "<g id=\"node21\" class=\"node\">\n",
       "<title>_df_to_parquet_build_result_inputs</title>\n",
       "<polygon fill=\"#ffffff\" stroke=\"black\" stroke-dasharray=\"5,2\" points=\"664.77,-485.6 539.17,-485.6 539.17,-418 664.77,-418 664.77,-485.6\"/>\n",
       "<text text-anchor=\"start\" x=\"553.72\" y=\"-457.5\" font-family=\"Helvetica,sans-Serif\" font-size=\"14.00\">signups</text>\n",
       "<text text-anchor=\"start\" x=\"608.85\" y=\"-457.5\" font-family=\"Helvetica,sans-Serif\" font-size=\"14.00\">Series</text>\n",
       "<text text-anchor=\"start\" x=\"558.6\" y=\"-435.5\" font-family=\"Helvetica,sans-Serif\" font-size=\"14.00\">spend</text>\n",
       "<text text-anchor=\"start\" x=\"608.85\" y=\"-435.5\" font-family=\"Helvetica,sans-Serif\" font-size=\"14.00\">Series</text>\n",
       "</g>\n",
       "<!-- _df_to_parquet_build_result_inputs&#45;&gt;df_to_parquet_build_result -->\n",
       "<g id=\"edge17\" class=\"edge\">\n",
       "<title>_df_to_parquet_build_result_inputs&#45;&gt;df_to_parquet_build_result</title>\n",
       "<path fill=\"none\" stroke=\"black\" d=\"M665.25,-442.17C687.67,-435.93 711.6,-425.67 728.65,-408.8 756.12,-381.61 730.6,-354.41 757.65,-326.8 758.14,-326.3 758.63,-325.81 759.13,-325.33\"/>\n",
       "<polygon fill=\"black\" stroke=\"black\" points=\"761.23,-328.13 766.56,-318.98 756.69,-322.81 761.23,-328.13\"/>\n",
       "</g>\n",
       "<!-- _spend_zero_mean_inputs -->\n",
       "<g id=\"node22\" class=\"node\">\n",
       "<title>_spend_zero_mean_inputs</title>\n",
       "<polygon fill=\"#ffffff\" stroke=\"black\" stroke-dasharray=\"5,2\" points=\"266.7,-280.85 150.1,-280.85 150.1,-234.75 266.7,-234.75 266.7,-280.85\"/>\n",
       "<text text-anchor=\"start\" x=\"164.9\" y=\"-252.75\" font-family=\"Helvetica,sans-Serif\" font-size=\"14.00\">spend</text>\n",
       "<text text-anchor=\"start\" x=\"210.65\" y=\"-252.75\" font-family=\"Helvetica,sans-Serif\" font-size=\"14.00\">Series</text>\n",
       "</g>\n",
       "<!-- _spend_zero_mean_inputs&#45;&gt;spend_zero_mean -->\n",
       "<g id=\"edge21\" class=\"edge\">\n",
       "<title>_spend_zero_mean_inputs&#45;&gt;spend_zero_mean</title>\n",
       "<path fill=\"none\" stroke=\"black\" d=\"M266.93,-254.58C272.52,-254.26 278.28,-253.94 284.07,-253.62\"/>\n",
       "<polygon fill=\"black\" stroke=\"black\" points=\"283.93,-257.13 293.72,-253.07 283.54,-250.14 283.93,-257.13\"/>\n",
       "</g>\n",
       "<!-- _df_to_json_build_result_inputs -->\n",
       "<g id=\"node23\" class=\"node\">\n",
       "<title>_df_to_json_build_result_inputs</title>\n",
       "<polygon fill=\"#ffffff\" stroke=\"black\" stroke-dasharray=\"5,2\" points=\"664.77,-67.6 539.17,-67.6 539.17,0 664.77,0 664.77,-67.6\"/>\n",
       "<text text-anchor=\"start\" x=\"553.72\" y=\"-39.5\" font-family=\"Helvetica,sans-Serif\" font-size=\"14.00\">signups</text>\n",
       "<text text-anchor=\"start\" x=\"608.85\" y=\"-39.5\" font-family=\"Helvetica,sans-Serif\" font-size=\"14.00\">Series</text>\n",
       "<text text-anchor=\"start\" x=\"558.6\" y=\"-17.5\" font-family=\"Helvetica,sans-Serif\" font-size=\"14.00\">spend</text>\n",
       "<text text-anchor=\"start\" x=\"608.85\" y=\"-17.5\" font-family=\"Helvetica,sans-Serif\" font-size=\"14.00\">Series</text>\n",
       "</g>\n",
       "<!-- _df_to_json_build_result_inputs&#45;&gt;df_to_json_build_result -->\n",
       "<g id=\"edge25\" class=\"edge\">\n",
       "<title>_df_to_json_build_result_inputs&#45;&gt;df_to_json_build_result</title>\n",
       "<path fill=\"none\" stroke=\"black\" d=\"M665.08,-54.54C694.39,-64.33 730.15,-76.28 763.36,-87.37\"/>\n",
       "<polygon fill=\"black\" stroke=\"black\" points=\"762.02,-90.61 772.61,-90.46 764.23,-83.97 762.02,-90.61\"/>\n",
       "</g>\n",
       "<!-- _spend_mean_inputs -->\n",
       "<g id=\"node24\" class=\"node\">\n",
       "<title>_spend_mean_inputs</title>\n",
       "<polygon fill=\"#ffffff\" stroke=\"black\" stroke-dasharray=\"5,2\" points=\"121.1,-207.85 4.5,-207.85 4.5,-161.75 121.1,-161.75 121.1,-207.85\"/>\n",
       "<text text-anchor=\"start\" x=\"19.3\" y=\"-179.75\" font-family=\"Helvetica,sans-Serif\" font-size=\"14.00\">spend</text>\n",
       "<text text-anchor=\"start\" x=\"65.05\" y=\"-179.75\" font-family=\"Helvetica,sans-Serif\" font-size=\"14.00\">Series</text>\n",
       "</g>\n",
       "<!-- _spend_mean_inputs&#45;&gt;spend_mean -->\n",
       "<g id=\"edge26\" class=\"edge\">\n",
       "<title>_spend_mean_inputs&#45;&gt;spend_mean</title>\n",
       "<path fill=\"none\" stroke=\"black\" d=\"M121.38,-184.8C127.72,-184.8 134.21,-184.8 140.65,-184.8\"/>\n",
       "<polygon fill=\"black\" stroke=\"black\" points=\"140.63,-188.3 150.63,-184.8 140.63,-181.3 140.63,-188.3\"/>\n",
       "</g>\n",
       "<!-- _df_to_feather_build_result_inputs -->\n",
       "<g id=\"node25\" class=\"node\">\n",
       "<title>_df_to_feather_build_result_inputs</title>\n",
       "<polygon fill=\"#ffffff\" stroke=\"black\" stroke-dasharray=\"5,2\" points=\"664.77,-153.6 539.17,-153.6 539.17,-86 664.77,-86 664.77,-153.6\"/>\n",
       "<text text-anchor=\"start\" x=\"553.72\" y=\"-125.5\" font-family=\"Helvetica,sans-Serif\" font-size=\"14.00\">signups</text>\n",
       "<text text-anchor=\"start\" x=\"608.85\" y=\"-125.5\" font-family=\"Helvetica,sans-Serif\" font-size=\"14.00\">Series</text>\n",
       "<text text-anchor=\"start\" x=\"558.6\" y=\"-103.5\" font-family=\"Helvetica,sans-Serif\" font-size=\"14.00\">spend</text>\n",
       "<text text-anchor=\"start\" x=\"608.85\" y=\"-103.5\" font-family=\"Helvetica,sans-Serif\" font-size=\"14.00\">Series</text>\n",
       "</g>\n",
       "<!-- _df_to_feather_build_result_inputs&#45;&gt;df_to_feather_build_result -->\n",
       "<g id=\"edge32\" class=\"edge\">\n",
       "<title>_df_to_feather_build_result_inputs&#45;&gt;df_to_feather_build_result</title>\n",
       "<path fill=\"none\" stroke=\"black\" d=\"M665.08,-139.6C691.82,-148.13 723.94,-158.36 754.58,-168.14\"/>\n",
       "<polygon fill=\"black\" stroke=\"black\" points=\"753.32,-171.41 763.91,-171.11 755.44,-164.74 753.32,-171.41\"/>\n",
       "</g>\n",
       "<!-- _spend_per_signup_inputs -->\n",
       "<g id=\"node26\" class=\"node\">\n",
       "<title>_spend_per_signup_inputs</title>\n",
       "<polygon fill=\"#ffffff\" stroke=\"black\" stroke-dasharray=\"5,2\" points=\"433.8,-198.6 308.2,-198.6 308.2,-131 433.8,-131 433.8,-198.6\"/>\n",
       "<text text-anchor=\"start\" x=\"322.75\" y=\"-170.5\" font-family=\"Helvetica,sans-Serif\" font-size=\"14.00\">signups</text>\n",
       "<text text-anchor=\"start\" x=\"377.87\" y=\"-170.5\" font-family=\"Helvetica,sans-Serif\" font-size=\"14.00\">Series</text>\n",
       "<text text-anchor=\"start\" x=\"327.62\" y=\"-148.5\" font-family=\"Helvetica,sans-Serif\" font-size=\"14.00\">spend</text>\n",
       "<text text-anchor=\"start\" x=\"377.87\" y=\"-148.5\" font-family=\"Helvetica,sans-Serif\" font-size=\"14.00\">Series</text>\n",
       "</g>\n",
       "<!-- _spend_per_signup_inputs&#45;&gt;spend_per_signup -->\n",
       "<g id=\"edge33\" class=\"edge\">\n",
       "<title>_spend_per_signup_inputs&#45;&gt;spend_per_signup</title>\n",
       "<path fill=\"none\" stroke=\"black\" d=\"M434.27,-175.41C458.83,-179.59 487.48,-184.47 514.03,-188.99\"/>\n",
       "<polygon fill=\"black\" stroke=\"black\" points=\"513.32,-192.42 523.77,-190.65 514.5,-185.52 513.32,-192.42\"/>\n",
       "</g>\n",
       "<!-- input -->\n",
       "<g id=\"node27\" class=\"node\">\n",
       "<title>input</title>\n",
       "<polygon fill=\"#ffffff\" stroke=\"black\" stroke-dasharray=\"5,2\" points=\"89.8,-263.85 35.8,-263.85 35.8,-225.75 89.8,-225.75 89.8,-263.85\"/>\n",
       "<text text-anchor=\"middle\" x=\"62.8\" y=\"-239.75\" font-family=\"Helvetica,sans-Serif\" font-size=\"14.00\">input</text>\n",
       "</g>\n",
       "<!-- function -->\n",
       "<g id=\"node28\" class=\"node\">\n",
       "<title>function</title>\n",
       "<path fill=\"#b4d8e4\" stroke=\"black\" d=\"M86.35,-319.85C86.35,-319.85 39.25,-319.85 39.25,-319.85 33.25,-319.85 27.25,-313.85 27.25,-307.85 27.25,-307.85 27.25,-293.75 27.25,-293.75 27.25,-287.75 33.25,-281.75 39.25,-281.75 39.25,-281.75 86.35,-281.75 86.35,-281.75 92.35,-281.75 98.35,-287.75 98.35,-293.75 98.35,-293.75 98.35,-307.85 98.35,-307.85 98.35,-313.85 92.35,-319.85 86.35,-319.85\"/>\n",
       "<text text-anchor=\"middle\" x=\"62.8\" y=\"-295.75\" font-family=\"Helvetica,sans-Serif\" font-size=\"14.00\">function</text>\n",
       "</g>\n",
       "<!-- output -->\n",
       "<g id=\"node29\" class=\"node\">\n",
       "<title>output</title>\n",
       "<path fill=\"#ffc857\" stroke=\"black\" d=\"M81.1,-375.85C81.1,-375.85 44.5,-375.85 44.5,-375.85 38.5,-375.85 32.5,-369.85 32.5,-363.85 32.5,-363.85 32.5,-349.75 32.5,-349.75 32.5,-343.75 38.5,-337.75 44.5,-337.75 44.5,-337.75 81.1,-337.75 81.1,-337.75 87.1,-337.75 93.1,-343.75 93.1,-349.75 93.1,-349.75 93.1,-363.85 93.1,-363.85 93.1,-369.85 87.1,-375.85 81.1,-375.85\"/>\n",
       "<text text-anchor=\"middle\" x=\"62.8\" y=\"-351.75\" font-family=\"Helvetica,sans-Serif\" font-size=\"14.00\">output</text>\n",
       "</g>\n",
       "<!-- materializer -->\n",
       "<g id=\"node30\" class=\"node\">\n",
       "<title>materializer</title>\n",
       "<path fill=\"#ffffff\" stroke=\"black\" d=\"M109.6,-432.18C109.6,-434.31 88.62,-436.04 62.8,-436.04 36.98,-436.04 16,-434.31 16,-432.18 16,-432.18 16,-397.42 16,-397.42 16,-395.29 36.98,-393.56 62.8,-393.56 88.62,-393.56 109.6,-395.29 109.6,-397.42 109.6,-397.42 109.6,-432.18 109.6,-432.18\"/>\n",
       "<path fill=\"none\" stroke=\"black\" d=\"M109.6,-432.18C109.6,-430.05 88.62,-428.32 62.8,-428.32 36.98,-428.32 16,-430.05 16,-432.18\"/>\n",
       "<text text-anchor=\"middle\" x=\"62.8\" y=\"-409.75\" font-family=\"Helvetica,sans-Serif\" font-size=\"14.00\">materializer</text>\n",
       "</g>\n",
       "</g>\n",
       "</svg>\n"
      ],
      "text/plain": [
       "<graphviz.graphs.Digraph at 0x210ba62da50>"
      ]
     },
     "execution_count": 18,
     "metadata": {},
     "output_type": "execute_result"
    }
   ],
   "source": [
    "materializers = [\n",
    "    # materialize the dataframe to a parquet file\n",
    "    to.parquet(\n",
    "        dependencies=output_columns,\n",
    "        id=\"df_to_parquet\",\n",
    "        file=\"./df.parquet\",\n",
    "        combine=df_builder,\n",
    "    ),\n",
    "    # materialize the dataframe to a feather file\n",
    "    to.feather(\n",
    "        dependencies=output_columns,\n",
    "        id=\"df_to_feather\",\n",
    "        file=\"./df.feather\",\n",
    "        combine=df_builder,\n",
    "    ),\n",
    "    # materialize the dataframe to a json file\n",
    "    to.json(\n",
    "        dependencies=output_columns,\n",
    "        id=\"df_to_json\",\n",
    "        file=\"./df.json\",\n",
    "        combine=df_builder,\n",
    "    ),\n",
    "    # materialize the dataframe to an avro file\n",
    "    to.avro(\n",
    "        dependencies=output_columns,\n",
    "        id=\"df_to_avro\",\n",
    "        file=\"./df.avro\",\n",
    "        combine=df_builder,\n",
    "    ),\n",
    "    # materialize the dataframe to a database\n",
    "    to.database(\n",
    "        dependencies=output_columns,\n",
    "        id=\"df_to_database\",\n",
    "        table_name=\"test\",\n",
    "        connection=\"sqlite:///df.db\",\n",
    "        if_table_exists=\"append\",\n",
    "        combine=df_builder,\n",
    "    ),\n",
    "]\n",
    "# Visualize what is happening\n",
    "dr.visualize_materialization(\n",
    "    *materializers,\n",
    "    additional_vars=output_columns,\n",
    "    inputs=initial_columns,\n",
    ")"
   ]
  },
  {
   "cell_type": "code",
   "execution_count": 19,
   "metadata": {
    "ExecuteTime": {
     "end_time": "2023-10-05T16:36:56.565384Z",
     "start_time": "2023-10-05T16:36:56.531421Z"
    }
   },
   "outputs": [],
   "source": [
    "# Materialize a result, i.e. execute the DAG!\n",
    "materialization_results, additional_outputs = dr.materialize(\n",
    "    *materializers,\n",
    "    additional_vars=[\n",
    "        \"df_to_parquet_build_result\",\n",
    "        \"df_to_feather_build_result\",\n",
    "        \"df_to_json_build_result\",\n",
    "        \"df_to_avro_build_result\",\n",
    "        \"df_to_database_build_result\",\n",
    "    ],  # because combine is used, we can get that result here.\n",
    "    inputs=initial_columns,\n",
    ")"
   ]
  },
  {
   "cell_type": "code",
   "execution_count": 20,
   "metadata": {
    "ExecuteTime": {
     "end_time": "2023-10-05T16:36:57.122715Z",
     "start_time": "2023-10-05T16:36:57.101770Z"
    }
   },
   "outputs": [
    {
     "data": {
      "text/plain": [
       "{'df_to_parquet': {'file_metadata': {'size': 1609,\n",
       "   'path': './df.parquet',\n",
       "   'last_modified': 1711020490.1191106,\n",
       "   'timestamp': 1711000690.11911,\n",
       "   'scheme': '',\n",
       "   'notes': ''},\n",
       "  'dataframe_metadata': {'rows': 6,\n",
       "   'columns': 5,\n",
       "   'column_names': ['spend',\n",
       "    'signups',\n",
       "    'avg_3wk_spend',\n",
       "    'spend_per_signup',\n",
       "    'spend_zero_mean_unit_variance'],\n",
       "   'datatypes': ['Int64', 'Int64', 'Float64', 'Float64', 'Float64']}},\n",
       " 'df_to_feather': {'file_metadata': {'size': 1696,\n",
       "   'path': './df.feather',\n",
       "   'last_modified': 1711020490.1191106,\n",
       "   'timestamp': 1711000690.11911,\n",
       "   'scheme': '',\n",
       "   'notes': ''},\n",
       "  'dataframe_metadata': {'rows': 6,\n",
       "   'columns': 5,\n",
       "   'column_names': ['spend',\n",
       "    'signups',\n",
       "    'avg_3wk_spend',\n",
       "    'spend_per_signup',\n",
       "    'spend_zero_mean_unit_variance'],\n",
       "   'datatypes': ['Int64', 'Int64', 'Float64', 'Float64', 'Float64']}},\n",
       " 'df_to_json': {'file_metadata': {'size': 657,\n",
       "   'path': './df.json',\n",
       "   'last_modified': 1711020490.1191106,\n",
       "   'timestamp': 1711000690.11911,\n",
       "   'scheme': '',\n",
       "   'notes': ''},\n",
       "  'dataframe_metadata': {'rows': 6,\n",
       "   'columns': 5,\n",
       "   'column_names': ['spend',\n",
       "    'signups',\n",
       "    'avg_3wk_spend',\n",
       "    'spend_per_signup',\n",
       "    'spend_zero_mean_unit_variance'],\n",
       "   'datatypes': ['Int64', 'Int64', 'Float64', 'Float64', 'Float64']}},\n",
       " 'df_to_avro': {'file_metadata': {'size': 517,\n",
       "   'path': './df.avro',\n",
       "   'last_modified': 1711020490.1191106,\n",
       "   'timestamp': 1711000690.11911,\n",
       "   'scheme': '',\n",
       "   'notes': ''},\n",
       "  'dataframe_metadata': {'rows': 6,\n",
       "   'columns': 5,\n",
       "   'column_names': ['spend',\n",
       "    'signups',\n",
       "    'avg_3wk_spend',\n",
       "    'spend_per_signup',\n",
       "    'spend_zero_mean_unit_variance'],\n",
       "   'datatypes': ['Int64', 'Int64', 'Float64', 'Float64', 'Float64']}},\n",
       " 'df_to_database': {'file_metadata': {'size': None,\n",
       "   'path': 'test',\n",
       "   'last_modified': 1711020490.1308386,\n",
       "   'timestamp': 1711000690.130838,\n",
       "   'scheme': '',\n",
       "   'notes': 'File metadata is unsupported for scheme:  or path: test does not exist.'},\n",
       "  'dataframe_metadata': {'rows': 6,\n",
       "   'columns': 5,\n",
       "   'column_names': ['spend',\n",
       "    'signups',\n",
       "    'avg_3wk_spend',\n",
       "    'spend_per_signup',\n",
       "    'spend_zero_mean_unit_variance'],\n",
       "   'datatypes': ['Int64', 'Int64', 'Float64', 'Float64', 'Float64']}}}"
      ]
     },
     "execution_count": 20,
     "metadata": {},
     "output_type": "execute_result"
    }
   ],
   "source": [
    "materialization_results"
   ]
  },
  {
   "cell_type": "code",
   "execution_count": null,
   "metadata": {
    "ExecuteTime": {
     "end_time": "2023-10-05T16:36:57.826266Z",
     "start_time": "2023-10-05T16:36:57.805459Z"
    }
   },
   "outputs": [
    {
     "data": {
      "text/html": [
       "<div><style>\n",
       ".dataframe > thead > tr > th,\n",
       ".dataframe > tbody > tr > td {\n",
       "  text-align: right;\n",
       "  white-space: pre-wrap;\n",
       "}\n",
       "</style>\n",
       "<small>shape: (6, 5)</small><table border=\"1\" class=\"dataframe\"><thead><tr><th>spend</th><th>signups</th><th>avg_3wk_spend</th><th>spend_per_signup</th><th>spend_zero_mean_unit_variance</th></tr><tr><td>i64</td><td>i64</td><td>f64</td><td>f64</td><td>f64</td></tr></thead><tbody><tr><td>10</td><td>1</td><td>null</td><td>10.0</td><td>-1.064405</td></tr><tr><td>10</td><td>10</td><td>null</td><td>1.0</td><td>-1.064405</td></tr><tr><td>20</td><td>50</td><td>13.333333</td><td>0.4</td><td>-0.483821</td></tr><tr><td>40</td><td>100</td><td>23.333333</td><td>0.4</td><td>0.677349</td></tr><tr><td>40</td><td>200</td><td>33.333333</td><td>0.2</td><td>0.677349</td></tr><tr><td>50</td><td>400</td><td>43.333333</td><td>0.125</td><td>1.257934</td></tr></tbody></table></div>"
      ],
      "text/plain": [
       "shape: (6, 5)\n",
       "┌───────┬─────────┬───────────────┬──────────────────┬───────────────────────────────┐\n",
       "│ spend ┆ signups ┆ avg_3wk_spend ┆ spend_per_signup ┆ spend_zero_mean_unit_variance │\n",
       "│ ---   ┆ ---     ┆ ---           ┆ ---              ┆ ---                           │\n",
       "│ i64   ┆ i64     ┆ f64           ┆ f64              ┆ f64                           │\n",
       "╞═══════╪═════════╪═══════════════╪══════════════════╪═══════════════════════════════╡\n",
       "│ 10    ┆ 1       ┆ null          ┆ 10.0             ┆ -1.064405                     │\n",
       "│ 10    ┆ 10      ┆ null          ┆ 1.0              ┆ -1.064405                     │\n",
       "│ 20    ┆ 50      ┆ 13.333333     ┆ 0.4              ┆ -0.483821                     │\n",
       "│ 40    ┆ 100     ┆ 23.333333     ┆ 0.4              ┆ 0.677349                      │\n",
       "│ 40    ┆ 200     ┆ 33.333333     ┆ 0.2              ┆ 0.677349                      │\n",
       "│ 50    ┆ 400     ┆ 43.333333     ┆ 0.125            ┆ 1.257934                      │\n",
       "└───────┴─────────┴───────────────┴──────────────────┴───────────────────────────────┘"
      ]
     },
     "execution_count": 13,
     "metadata": {},
     "output_type": "execute_result"
    }
   ],
   "source": [
    "additional_outputs[\"df_to_parquet_build_result\"]"
   ]
  },
  {
   "cell_type": "code",
   "execution_count": null,
   "metadata": {
    "ExecuteTime": {
     "end_time": "2023-10-05T16:36:58.919203Z",
     "start_time": "2023-10-05T16:36:58.869761Z"
    }
   },
   "outputs": [
    {
     "data": {
      "text/html": [
       "<div><style>\n",
       ".dataframe > thead > tr > th,\n",
       ".dataframe > tbody > tr > td {\n",
       "  text-align: right;\n",
       "  white-space: pre-wrap;\n",
       "}\n",
       "</style>\n",
       "<small>shape: (6, 5)</small><table border=\"1\" class=\"dataframe\"><thead><tr><th>spend</th><th>signups</th><th>avg_3wk_spend</th><th>spend_per_signup</th><th>spend_zero_mean_unit_variance</th></tr><tr><td>i64</td><td>i64</td><td>f64</td><td>f64</td><td>f64</td></tr></thead><tbody><tr><td>10</td><td>1</td><td>null</td><td>10.0</td><td>-1.064405</td></tr><tr><td>10</td><td>10</td><td>null</td><td>1.0</td><td>-1.064405</td></tr><tr><td>20</td><td>50</td><td>13.333333</td><td>0.4</td><td>-0.483821</td></tr><tr><td>40</td><td>100</td><td>23.333333</td><td>0.4</td><td>0.677349</td></tr><tr><td>40</td><td>200</td><td>33.333333</td><td>0.2</td><td>0.677349</td></tr><tr><td>50</td><td>400</td><td>43.333333</td><td>0.125</td><td>1.257934</td></tr></tbody></table></div>"
      ],
      "text/plain": [
       "shape: (6, 5)\n",
       "┌───────┬─────────┬───────────────┬──────────────────┬───────────────────────────────┐\n",
       "│ spend ┆ signups ┆ avg_3wk_spend ┆ spend_per_signup ┆ spend_zero_mean_unit_variance │\n",
       "│ ---   ┆ ---     ┆ ---           ┆ ---              ┆ ---                           │\n",
       "│ i64   ┆ i64     ┆ f64           ┆ f64              ┆ f64                           │\n",
       "╞═══════╪═════════╪═══════════════╪══════════════════╪═══════════════════════════════╡\n",
       "│ 10    ┆ 1       ┆ null          ┆ 10.0             ┆ -1.064405                     │\n",
       "│ 10    ┆ 10      ┆ null          ┆ 1.0              ┆ -1.064405                     │\n",
       "│ 20    ┆ 50      ┆ 13.333333     ┆ 0.4              ┆ -0.483821                     │\n",
       "│ 40    ┆ 100     ┆ 23.333333     ┆ 0.4              ┆ 0.677349                      │\n",
       "│ 40    ┆ 200     ┆ 33.333333     ┆ 0.2              ┆ 0.677349                      │\n",
       "│ 50    ┆ 400     ┆ 43.333333     ┆ 0.125            ┆ 1.257934                      │\n",
       "└───────┴─────────┴───────────────┴──────────────────┴───────────────────────────────┘"
      ]
     },
     "execution_count": 14,
     "metadata": {},
     "output_type": "execute_result"
    }
   ],
   "source": [
    "additional_outputs[\"df_to_feather_build_result\"]"
   ]
  },
  {
   "cell_type": "code",
   "execution_count": null,
   "metadata": {
    "ExecuteTime": {
     "end_time": "2023-10-05T16:37:01.766669Z",
     "start_time": "2023-10-05T16:37:01.705286Z"
    },
    "collapsed": false
   },
   "outputs": [
    {
     "data": {
      "text/html": [
       "<div><style>\n",
       ".dataframe > thead > tr > th,\n",
       ".dataframe > tbody > tr > td {\n",
       "  text-align: right;\n",
       "  white-space: pre-wrap;\n",
       "}\n",
       "</style>\n",
       "<small>shape: (6, 5)</small><table border=\"1\" class=\"dataframe\"><thead><tr><th>spend</th><th>signups</th><th>avg_3wk_spend</th><th>spend_per_signup</th><th>spend_zero_mean_unit_variance</th></tr><tr><td>i64</td><td>i64</td><td>f64</td><td>f64</td><td>f64</td></tr></thead><tbody><tr><td>10</td><td>1</td><td>null</td><td>10.0</td><td>-1.064405</td></tr><tr><td>10</td><td>10</td><td>null</td><td>1.0</td><td>-1.064405</td></tr><tr><td>20</td><td>50</td><td>13.333333</td><td>0.4</td><td>-0.483821</td></tr><tr><td>40</td><td>100</td><td>23.333333</td><td>0.4</td><td>0.677349</td></tr><tr><td>40</td><td>200</td><td>33.333333</td><td>0.2</td><td>0.677349</td></tr><tr><td>50</td><td>400</td><td>43.333333</td><td>0.125</td><td>1.257934</td></tr></tbody></table></div>"
      ],
      "text/plain": [
       "shape: (6, 5)\n",
       "┌───────┬─────────┬───────────────┬──────────────────┬───────────────────────────────┐\n",
       "│ spend ┆ signups ┆ avg_3wk_spend ┆ spend_per_signup ┆ spend_zero_mean_unit_variance │\n",
       "│ ---   ┆ ---     ┆ ---           ┆ ---              ┆ ---                           │\n",
       "│ i64   ┆ i64     ┆ f64           ┆ f64              ┆ f64                           │\n",
       "╞═══════╪═════════╪═══════════════╪══════════════════╪═══════════════════════════════╡\n",
       "│ 10    ┆ 1       ┆ null          ┆ 10.0             ┆ -1.064405                     │\n",
       "│ 10    ┆ 10      ┆ null          ┆ 1.0              ┆ -1.064405                     │\n",
       "│ 20    ┆ 50      ┆ 13.333333     ┆ 0.4              ┆ -0.483821                     │\n",
       "│ 40    ┆ 100     ┆ 23.333333     ┆ 0.4              ┆ 0.677349                      │\n",
       "│ 40    ┆ 200     ┆ 33.333333     ┆ 0.2              ┆ 0.677349                      │\n",
       "│ 50    ┆ 400     ┆ 43.333333     ┆ 0.125            ┆ 1.257934                      │\n",
       "└───────┴─────────┴───────────────┴──────────────────┴───────────────────────────────┘"
      ]
     },
     "execution_count": 15,
     "metadata": {},
     "output_type": "execute_result"
    }
   ],
   "source": [
    "additional_outputs[\"df_to_json_build_result\"]"
   ]
  },
  {
   "cell_type": "code",
   "execution_count": null,
   "metadata": {
    "collapsed": false
   },
   "outputs": [
    {
     "data": {
      "text/html": [
       "<div><style>\n",
       ".dataframe > thead > tr > th,\n",
       ".dataframe > tbody > tr > td {\n",
       "  text-align: right;\n",
       "  white-space: pre-wrap;\n",
       "}\n",
       "</style>\n",
       "<small>shape: (6, 5)</small><table border=\"1\" class=\"dataframe\"><thead><tr><th>spend</th><th>signups</th><th>avg_3wk_spend</th><th>spend_per_signup</th><th>spend_zero_mean_unit_variance</th></tr><tr><td>i64</td><td>i64</td><td>f64</td><td>f64</td><td>f64</td></tr></thead><tbody><tr><td>10</td><td>1</td><td>null</td><td>10.0</td><td>-1.064405</td></tr><tr><td>10</td><td>10</td><td>null</td><td>1.0</td><td>-1.064405</td></tr><tr><td>20</td><td>50</td><td>13.333333</td><td>0.4</td><td>-0.483821</td></tr><tr><td>40</td><td>100</td><td>23.333333</td><td>0.4</td><td>0.677349</td></tr><tr><td>40</td><td>200</td><td>33.333333</td><td>0.2</td><td>0.677349</td></tr><tr><td>50</td><td>400</td><td>43.333333</td><td>0.125</td><td>1.257934</td></tr></tbody></table></div>"
      ],
      "text/plain": [
       "shape: (6, 5)\n",
       "┌───────┬─────────┬───────────────┬──────────────────┬───────────────────────────────┐\n",
       "│ spend ┆ signups ┆ avg_3wk_spend ┆ spend_per_signup ┆ spend_zero_mean_unit_variance │\n",
       "│ ---   ┆ ---     ┆ ---           ┆ ---              ┆ ---                           │\n",
       "│ i64   ┆ i64     ┆ f64           ┆ f64              ┆ f64                           │\n",
       "╞═══════╪═════════╪═══════════════╪══════════════════╪═══════════════════════════════╡\n",
       "│ 10    ┆ 1       ┆ null          ┆ 10.0             ┆ -1.064405                     │\n",
       "│ 10    ┆ 10      ┆ null          ┆ 1.0              ┆ -1.064405                     │\n",
       "│ 20    ┆ 50      ┆ 13.333333     ┆ 0.4              ┆ -0.483821                     │\n",
       "│ 40    ┆ 100     ┆ 23.333333     ┆ 0.4              ┆ 0.677349                      │\n",
       "│ 40    ┆ 200     ┆ 33.333333     ┆ 0.2              ┆ 0.677349                      │\n",
       "│ 50    ┆ 400     ┆ 43.333333     ┆ 0.125            ┆ 1.257934                      │\n",
       "└───────┴─────────┴───────────────┴──────────────────┴───────────────────────────────┘"
      ]
     },
     "execution_count": 16,
     "metadata": {},
     "output_type": "execute_result"
    }
   ],
   "source": [
    "additional_outputs[\"df_to_avro_build_result\"]"
   ]
  },
  {
   "cell_type": "code",
   "execution_count": 21,
   "metadata": {},
   "outputs": [
    {
     "data": {
      "text/html": [
       "<div><style>\n",
       ".dataframe > thead > tr,\n",
       ".dataframe > tbody > tr {\n",
       "  text-align: right;\n",
       "  white-space: pre-wrap;\n",
       "}\n",
       "</style>\n",
       "<small>shape: (6, 5)</small><table border=\"1\" class=\"dataframe\"><thead><tr><th>spend</th><th>signups</th><th>avg_3wk_spend</th><th>spend_per_signup</th><th>spend_zero_mean_unit_variance</th></tr><tr><td>i64</td><td>i64</td><td>f64</td><td>f64</td><td>f64</td></tr></thead><tbody><tr><td>10</td><td>1</td><td>null</td><td>10.0</td><td>-1.064405</td></tr><tr><td>10</td><td>10</td><td>null</td><td>1.0</td><td>-1.064405</td></tr><tr><td>20</td><td>50</td><td>13.333333</td><td>0.4</td><td>-0.483821</td></tr><tr><td>40</td><td>100</td><td>23.333333</td><td>0.4</td><td>0.677349</td></tr><tr><td>40</td><td>200</td><td>33.333333</td><td>0.2</td><td>0.677349</td></tr><tr><td>50</td><td>400</td><td>43.333333</td><td>0.125</td><td>1.257934</td></tr></tbody></table></div>"
      ],
      "text/plain": [
       "shape: (6, 5)\n",
       "┌───────┬─────────┬───────────────┬──────────────────┬───────────────────────────────┐\n",
       "│ spend ┆ signups ┆ avg_3wk_spend ┆ spend_per_signup ┆ spend_zero_mean_unit_variance │\n",
       "│ ---   ┆ ---     ┆ ---           ┆ ---              ┆ ---                           │\n",
       "│ i64   ┆ i64     ┆ f64           ┆ f64              ┆ f64                           │\n",
       "╞═══════╪═════════╪═══════════════╪══════════════════╪═══════════════════════════════╡\n",
       "│ 10    ┆ 1       ┆ null          ┆ 10.0             ┆ -1.064405                     │\n",
       "│ 10    ┆ 10      ┆ null          ┆ 1.0              ┆ -1.064405                     │\n",
       "│ 20    ┆ 50      ┆ 13.333333     ┆ 0.4              ┆ -0.483821                     │\n",
       "│ 40    ┆ 100     ┆ 23.333333     ┆ 0.4              ┆ 0.677349                      │\n",
       "│ 40    ┆ 200     ┆ 33.333333     ┆ 0.2              ┆ 0.677349                      │\n",
       "│ 50    ┆ 400     ┆ 43.333333     ┆ 0.125            ┆ 1.257934                      │\n",
       "└───────┴─────────┴───────────────┴──────────────────┴───────────────────────────────┘"
      ]
     },
     "execution_count": 21,
     "metadata": {},
     "output_type": "execute_result"
    }
   ],
   "source": [
    "additional_outputs[\"df_to_database_build_result\"]"
   ]
  }
 ],
 "metadata": {
  "kernelspec": {
   "display_name": "Python 3 (ipykernel)",
   "language": "python",
   "name": "python3"
  },
  "language_info": {
   "codemirror_mode": {
    "name": "ipython",
    "version": 3
   },
   "file_extension": ".py",
   "mimetype": "text/x-python",
   "name": "python",
   "nbconvert_exporter": "python",
   "pygments_lexer": "ipython3",
   "version": "3.10.5"
  }
 },
 "nbformat": 4,
 "nbformat_minor": 4
}
